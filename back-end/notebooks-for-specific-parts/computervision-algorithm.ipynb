{
 "cells": [
  {
   "cell_type": "code",
   "execution_count": 1,
   "id": "cb8d5052",
   "metadata": {},
   "outputs": [],
   "source": [
    "import cv2\n",
    "from PIL import Image"
   ]
  },
  {
   "cell_type": "code",
   "execution_count": 26,
   "id": "bca4399c",
   "metadata": {},
   "outputs": [
    {
     "data": {
      "text/plain": [
       "array([[206, 206, 206, ..., 187, 186, 184],\n",
       "       [206, 206, 206, ..., 186, 185, 185],\n",
       "       [206, 206, 206, ..., 186, 185, 185],\n",
       "       ...,\n",
       "       [162, 157, 152, ..., 184, 184, 184],\n",
       "       [160, 156, 152, ..., 184, 184, 184],\n",
       "       [156, 158, 158, ..., 184, 184, 184]], dtype=uint8)"
      ]
     },
     "execution_count": 26,
     "metadata": {},
     "output_type": "execute_result"
    }
   ],
   "source": [
    "# loading a pic in opencv, 0 means cv2.IMREAD_GRAYSCALE. check out the documentation!\n",
    "image = cv2.imread(\"dark_image.jpg\", flags= 0)\n",
    "image"
   ]
  },
  {
   "cell_type": "code",
   "execution_count": 45,
   "id": "d3b862aa",
   "metadata": {},
   "outputs": [],
   "source": [
    "#Image from Pillow makes the pic printable as a image and not only an array\n",
    "Image.fromarray(image).show()"
   ]
  },
  {
   "cell_type": "code",
   "execution_count": 47,
   "id": "19a1dee8",
   "metadata": {},
   "outputs": [],
   "source": [
    "# applying the threshold: the image has different shades, and i chose \n",
    "# thresh_binary because we want each pixel to be either white or black\n",
    "_, new_image = cv2.threshold(image,160, 255,cv2.THRESH_BINARY)\n",
    "Image.fromarray(new_image).show()"
   ]
  },
  {
   "cell_type": "code",
   "execution_count": 48,
   "id": "0c6fe2f4",
   "metadata": {},
   "outputs": [],
   "source": [
    "# we need adaptive thresholding because there are many different shade colors in the image\n",
    "new_image = cv2.adaptiveThreshold(\n",
    "    image, 255,\n",
    "    # specify that it is the adaptive threst\n",
    "    cv2.ADAPTIVE_THRESH_GAUSSIAN_C,\n",
    "    # and that the pic gonna be white&black\n",
    "    cv2.THRESH_BINARY,\n",
    "    # block size of the black area\n",
    "    61,\n",
    "    # constant\n",
    "    11\n",
    ")\n",
    "Image.fromarray(new_image).show()"
   ]
  },
  {
   "cell_type": "code",
   "execution_count": null,
   "id": "b146a6f1",
   "metadata": {},
   "outputs": [],
   "source": []
  }
 ],
 "metadata": {
  "kernelspec": {
   "display_name": "Python 3 (ipykernel)",
   "language": "python",
   "name": "python3"
  },
  "language_info": {
   "codemirror_mode": {
    "name": "ipython",
    "version": 3
   },
   "file_extension": ".py",
   "mimetype": "text/x-python",
   "name": "python",
   "nbconvert_exporter": "python",
   "pygments_lexer": "ipython3",
   "version": "3.10.6"
  }
 },
 "nbformat": 4,
 "nbformat_minor": 5
}
