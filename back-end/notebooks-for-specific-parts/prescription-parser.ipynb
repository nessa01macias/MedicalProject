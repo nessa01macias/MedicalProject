{
 "cells": [
  {
   "cell_type": "code",
   "execution_count": 2,
   "id": "545ccaf4",
   "metadata": {
    "scrolled": true
   },
   "outputs": [],
   "source": [
    "#used to convert the pdf to an image\n",
    "from pdf2image import convert_from_path\n",
    "#exact text from images using pytesseract\n",
    "import pytesseract \n",
    "import cv2\n",
    "import numpy as np\n",
    "#Image from Pillow makes the pic printable as a image and not only an array\n",
    "from PIL import Image\n",
    "import re"
   ]
  },
  {
   "cell_type": "code",
   "execution_count": 3,
   "id": "4137a37d",
   "metadata": {},
   "outputs": [],
   "source": [
    "pages = convert_from_path(r'docs\\prescription\\pre_1.pdf', poppler_path= r'C:\\Users\\nessa\\poppler-22.04.0\\Library\\bin')"
   ]
  },
  {
   "cell_type": "code",
   "execution_count": 4,
   "id": "b585a570",
   "metadata": {},
   "outputs": [],
   "source": [
    "pages[0].show()\n"
   ]
  },
  {
   "cell_type": "code",
   "execution_count": 5,
   "id": "00a074d8",
   "metadata": {},
   "outputs": [
    {
     "name": "stdout",
     "output_type": "stream",
     "text": [
      "Dr John Smith, M.D\n",
      "2 Non-Important Street,\n",
      "New York, Phone (000)-111-2222\n",
      "\n",
      "Name: Maria Sharapova Date: 5/11/2022\n",
      "\n",
      "Address: 9 tennis court, new Russia, DC\n",
      "\n",
      "—momennannenncmneneunnmnnnnninsissiyoinnitnahaadaanih issn earnttneenrenen:\n",
      "\n",
      "Prednisone 20 mg\n",
      "Lialda 2.4 gram\n",
      "\n",
      "3 days,\n",
      "\n",
      "or 1 month\n",
      "\n"
     ]
    }
   ],
   "source": [
    "# first try to extract text without pre-processing anything\n",
    "pytesseract.pytesseract.tesseract_cmd = r'C:\\Program Files\\Tesseract-OCR\\tesseract.exe'\n",
    "text = pytesseract.image_to_string(pages[0], lang=\"eng\")\n",
    "print(text)"
   ]
  },
  {
   "cell_type": "code",
   "execution_count": 6,
   "id": "6c111604",
   "metadata": {},
   "outputs": [],
   "source": [
    "def preprocess_image(image):\n",
    "    # image comes in and array comes out\n",
    "    image_gray = cv2.cvtColor(np.array(image), cv2.COLOR_BGR2GRAY)\n",
    "    resized = cv2.resize(image_gray, None, fx=1.5, fy=1.5, interpolation=cv2.INTER_LINEAR)\n",
    "    # we need adaptive thresholding because there are many different shade colors in the image\n",
    "    processed = cv2.adaptiveThreshold(\n",
    "        resized, 255,\n",
    "        # specify that it is the adaptive threst\n",
    "        cv2.ADAPTIVE_THRESH_GAUSSIAN_C,\n",
    "        # and that the pic gonna be white&black\n",
    "        cv2.THRESH_BINARY,\n",
    "        # block size of the black area\n",
    "        61,\n",
    "        # constant\n",
    "        11\n",
    "    )\n",
    "    return processed"
   ]
  },
  {
   "cell_type": "code",
   "execution_count": 7,
   "id": "bae5b383",
   "metadata": {},
   "outputs": [],
   "source": [
    "# i send an image, but i get back an array so we need pillow\n",
    "img = preprocess_image(pages[0])\n",
    "Image.fromarray(img).show()"
   ]
  },
  {
   "cell_type": "code",
   "execution_count": 8,
   "id": "a14d8d30",
   "metadata": {
    "scrolled": false
   },
   "outputs": [
    {
     "name": "stdout",
     "output_type": "stream",
     "text": [
      "Dr John Smith, M.D\n",
      "2 Non-Important Street,\n",
      "New York, Phone (000)-111-2222\n",
      "\n",
      "Name: Marta Sharapova Date: 5/11/2022\n",
      "\n",
      "Address: 9 tennis court, new Russia, DC\n",
      "\n",
      "K\n",
      "\n",
      "Prednisone 20 mg\n",
      "Lialda 2.4 gram\n",
      "\n",
      "Directions:\n",
      "\n",
      "Prednisone, Taper 5 mg every 3 days,\n",
      "Finish in 2.5 weeks a\n",
      "Lialda - take 2 pill everyday for 1 month\n",
      "\n",
      "Refill: 2 times\n",
      "\n"
     ]
    }
   ],
   "source": [
    "# let's try to exact the text after the pre-processing\n",
    "pytesseract.pytesseract.tesseract_cmd = r'C:\\Program Files\\Tesseract-OCR\\tesseract.exe'\n",
    "text = pytesseract.image_to_string(img, lang=\"eng\")\n",
    "print(text)"
   ]
  },
  {
   "cell_type": "code",
   "execution_count": 9,
   "id": "2f404aa4",
   "metadata": {},
   "outputs": [
    {
     "data": {
      "text/plain": [
       "'Marta Sharapova'"
      ]
     },
     "execution_count": 9,
     "metadata": {},
     "output_type": "execute_result"
    }
   ],
   "source": [
    "# time to decode the text!\n",
    "# starting with the name\n",
    "pattern = \"Name:(.+)Date:\"\n",
    "math = re.findall(pattern, text)\n",
    "math[0].strip()"
   ]
  },
  {
   "cell_type": "code",
   "execution_count": 10,
   "id": "eb2b0283",
   "metadata": {},
   "outputs": [
    {
     "data": {
      "text/plain": [
       "'9 tennis court, new Russia, DC'"
      ]
     },
     "execution_count": 10,
     "metadata": {},
     "output_type": "execute_result"
    }
   ],
   "source": [
    "# now comes the address\n",
    "pattern = \"Address:(.*)\\n\"\n",
    "math = re.findall(pattern, text)\n",
    "math[0].strip()"
   ]
  },
  {
   "cell_type": "code",
   "execution_count": 47,
   "id": "ff7d9480",
   "metadata": {},
   "outputs": [],
   "source": [
    "# now comes the prescription\n",
    "pattern = \"Address[^\\n]*(.*)Directions:\"\n",
    "# re.DOTALL because now we are working with multiple lines where we dont want \\n to count\n",
    "math = re.findall(pattern, text, flags = re.DOTALL)\n",
    "math = \"\".join(math)\n",
    "math = math.replace('K', '')\n"
   ]
  },
  {
   "cell_type": "code",
   "execution_count": 12,
   "id": "4aa3eb76",
   "metadata": {},
   "outputs": [
    {
     "data": {
      "text/plain": [
       "['Prednisone, Taper 5 mg every 3 days,',\n",
       " 'Finish in 2.5 weeks a',\n",
       " 'Lialda - take 2 pill everyday for 1 month']"
      ]
     },
     "execution_count": 12,
     "metadata": {},
     "output_type": "execute_result"
    }
   ],
   "source": [
    "pattern = \"Directions:(.*)Refill:\"\n",
    "math = re.findall(pattern, text, flags = re.DOTALL)\n",
    "math = math[0].strip()\n",
    "math = math.split(\"\\n\")\n",
    "math"
   ]
  },
  {
   "cell_type": "code",
   "execution_count": 13,
   "id": "7c97e2ca",
   "metadata": {},
   "outputs": [
    {
     "data": {
      "text/plain": [
       "'2'"
      ]
     },
     "execution_count": 13,
     "metadata": {},
     "output_type": "execute_result"
    }
   ],
   "source": [
    "# now comes the refill\n",
    "pattern = \"Refill:(.*)times\"\n",
    "math = re.findall(pattern, text)\n",
    "math[0].strip()"
   ]
  }
 ],
 "metadata": {
  "kernelspec": {
   "display_name": "Python 3 (ipykernel)",
   "language": "python",
   "name": "python3"
  },
  "language_info": {
   "codemirror_mode": {
    "name": "ipython",
    "version": 3
   },
   "file_extension": ".py",
   "mimetype": "text/x-python",
   "name": "python",
   "nbconvert_exporter": "python",
   "pygments_lexer": "ipython3",
   "version": "3.10.6"
  },
  "vscode": {
   "interpreter": {
    "hash": "369f2c481f4da34e4445cda3fffd2e751bd1c4d706f27375911949ba6bb62e1c"
   }
  }
 },
 "nbformat": 4,
 "nbformat_minor": 5
}
