{
 "cells": [
  {
   "cell_type": "code",
   "execution_count": 9,
   "id": "011aab88",
   "metadata": {},
   "outputs": [],
   "source": [
    "#used to convert the pdf to an image\n",
    "from pdf2image import convert_from_path\n",
    "#exact text from images using pytesseract\n",
    "import pytesseract \n",
    "import cv2\n",
    "import numpy as np\n",
    "#Image from Pillow makes the pic printable as a image and not only an array\n",
    "from PIL import Image\n",
    "import re"
   ]
  },
  {
   "cell_type": "code",
   "execution_count": 77,
   "id": "8ddd6fd7",
   "metadata": {},
   "outputs": [],
   "source": [
    "pages = convert_from_path(r'docs\\patient_details\\pd_1.pdf', poppler_path= r'C:\\Users\\nessa\\poppler-22.04.0\\Library\\bin')"
   ]
  },
  {
   "cell_type": "code",
   "execution_count": 73,
   "id": "8cb38a0f",
   "metadata": {
    "scrolled": true
   },
   "outputs": [
    {
     "data": {
      "text/plain": [
       "[<PIL.PpmImagePlugin.PpmImageFile image mode=RGB size=1500x2000>,\n",
       " <PIL.PpmImagePlugin.PpmImageFile image mode=RGB size=1992x2000>]"
      ]
     },
     "execution_count": 73,
     "metadata": {},
     "output_type": "execute_result"
    }
   ],
   "source": [
    "pages[0].show()\n",
    "pages"
   ]
  },
  {
   "cell_type": "code",
   "execution_count": 74,
   "id": "9c9d532a",
   "metadata": {},
   "outputs": [],
   "source": [
    "def preprocess_image(image):\n",
    "    # image comes in and array comes out\n",
    "    image_gray = cv2.cvtColor(np.array(image), cv2.COLOR_BGR2GRAY)\n",
    "    resized = cv2.resize(image_gray, None, fx=1.5, fy=1.5, interpolation=cv2.INTER_LINEAR)\n",
    "    # we need adaptive thresholding because there are many different shade colors in the image\n",
    "    processed = cv2.adaptiveThreshold(\n",
    "        resized, 255,\n",
    "        # specify that it is the adaptive threst\n",
    "        cv2.ADAPTIVE_THRESH_GAUSSIAN_C,\n",
    "        # and that the pic gonna be white&black\n",
    "        cv2.THRESH_BINARY,\n",
    "        # block size of the black area\n",
    "        61,\n",
    "        # constant\n",
    "        11\n",
    "    )\n",
    "    return processed"
   ]
  },
  {
   "cell_type": "code",
   "execution_count": 78,
   "id": "53a6b6c5",
   "metadata": {},
   "outputs": [],
   "source": [
    "# i send an image, but i get back an array so we need pillow\n",
    "img = preprocess_image(pages[0])\n",
    "Image.fromarray(img).show()"
   ]
  },
  {
   "cell_type": "code",
   "execution_count": 79,
   "id": "e3b3bda4",
   "metadata": {},
   "outputs": [
    {
     "name": "stdout",
     "output_type": "stream",
     "text": [
      "17/12/2020\n",
      "\n",
      "Patient Medical Record\n",
      "\n",
      "Patient Information Birth Date\n",
      "\n",
      "Kathy Crawford May 6 1972\n",
      "\n",
      "(737) 988-0851 Weight’\n",
      "\n",
      "9264 Ash Dr 95\n",
      "\n",
      "New York City, 10005 '\n",
      "\n",
      "United States Height:\n",
      "190\n",
      "\n",
      "In Case of Emergency\n",
      "ee J\n",
      "Simeone Crawford 9266 Ash Dr\n",
      "New York City, New York, 10005\n",
      "Home phone United States\n",
      "(990) 375-4621\n",
      "Work phone\n",
      "Genera! Medical History\n",
      "nn ee\n",
      "Chicken Pox (Varicella): Measies:\n",
      "IMMUNE\n",
      "\n",
      "IMMUNE\n",
      "Have you had the Hepatitis B vaccination?\n",
      "\n",
      "No\n",
      "\n",
      "List any Medical Problems (asthma, seizures, headaches}:\n",
      "\n",
      "Migraine\n",
      "\n"
     ]
    }
   ],
   "source": [
    "# let's try to exact the text after the pre-processing\n",
    "pytesseract.pytesseract.tesseract_cmd = r'C:\\Program Files\\Tesseract-OCR\\tesseract.exe'\n",
    "text = pytesseract.image_to_string(img, lang=\"eng\")\n",
    "print(text)"
   ]
  },
  {
   "cell_type": "markdown",
   "id": "9f00722b",
   "metadata": {},
   "source": [
    "<h3> Extract name <h3>"
   ]
  },
  {
   "cell_type": "code",
   "execution_count": 51,
   "id": "c822028c",
   "metadata": {},
   "outputs": [
    {
     "data": {
      "text/plain": [
       "[' Birth Date\\n\\nKathy Crawford May 6 1972\\n\\n']"
      ]
     },
     "execution_count": 51,
     "metadata": {},
     "output_type": "execute_result"
    }
   ],
   "source": [
    "# time to decode the text!\n",
    "# starting with the name\n",
    "import re \n",
    "\n",
    "pattern = \"Patient Information(.*?)\\(\\d{3}\\)\"\n",
    "matches = re.findall(pattern, text, flags = re.DOTALL)\n",
    "matches"
   ]
  },
  {
   "cell_type": "code",
   "execution_count": 49,
   "id": "2d86ef69",
   "metadata": {},
   "outputs": [
    {
     "data": {
      "text/plain": [
       "'Birth Date\\n\\nKathy Crawford May 6 1972'"
      ]
     },
     "execution_count": 49,
     "metadata": {},
     "output_type": "execute_result"
    }
   ],
   "source": [
    "matches[0].strip()"
   ]
  },
  {
   "cell_type": "code",
   "execution_count": 41,
   "id": "0d11b88c",
   "metadata": {
    "scrolled": true
   },
   "outputs": [
    {
     "name": "stdout",
     "output_type": "stream",
     "text": [
      "Kathy Crawford May 6 1972 May 6 1972\n"
     ]
    }
   ],
   "source": [
    "match = matches[0].replace(\"Birth Date\", \"\").strip()\n",
    "pattern = '((Jan|Feb|March|April|May|June|July|Aug|Sep|Oct|Nov|Dec)[ 0-9]+)'\n",
    "date_matches = re.findall(pattern, match)\n",
    "date = date_matches[0][0]\n",
    "print(match, date)"
   ]
  },
  {
   "cell_type": "code",
   "execution_count": 48,
   "id": "8c459ed4",
   "metadata": {
    "scrolled": true
   },
   "outputs": [
    {
     "data": {
      "text/plain": [
       "'Kathy Crawford'"
      ]
     },
     "execution_count": 48,
     "metadata": {},
     "output_type": "execute_result"
    }
   ],
   "source": [
    "match = match.replace(date,'').strip()\n",
    "match"
   ]
  },
  {
   "cell_type": "code",
   "execution_count": 61,
   "id": "cc41b6ca",
   "metadata": {},
   "outputs": [],
   "source": [
    "def remove_noise_from_name(name):\n",
    "    name = name.replace(\"Birth Date\", \"\").strip()\n",
    "    pattern = '((Jan|Feb|March|April|May|June|July|Aug|Sep|Oct|Nov|Dec)[ 0-9]+)'\n",
    "    date_matches = re.findall(pattern, name)\n",
    "    if date_matches:\n",
    "        date =  date_matches[0][0]\n",
    "        name = name.replace(date,'').strip()\n",
    "    return name"
   ]
  },
  {
   "cell_type": "code",
   "execution_count": 62,
   "id": "f479c8fe",
   "metadata": {},
   "outputs": [
    {
     "name": "stdout",
     "output_type": "stream",
     "text": [
      "Kathy Crawford\n"
     ]
    }
   ],
   "source": [
    "name = ' Birth Date\\n\\nKathy Crawford May 6 1972\\n\\n'\n",
    "print(remove_noise_from_name(name))"
   ]
  },
  {
   "cell_type": "markdown",
   "id": "88e2a954",
   "metadata": {},
   "source": [
    "<h3> Extract phone <h3>"
   ]
  },
  {
   "cell_type": "code",
   "execution_count": 66,
   "id": "a51c729e",
   "metadata": {},
   "outputs": [
    {
     "data": {
      "text/plain": [
       "'(737) 988-0851'"
      ]
     },
     "execution_count": 66,
     "metadata": {},
     "output_type": "execute_result"
    }
   ],
   "source": [
    "pattern = 'Patient Information(.*?)(\\(\\d{3}\\) \\d{3}-\\d{4})'\n",
    "matches = re.findall(pattern, text, flags = re.DOTALL)\n",
    "# 1st group is the 1st match, and 2nd group is the 2nd match\n",
    "matches[0][1]"
   ]
  },
  {
   "cell_type": "markdown",
   "id": "e896289d",
   "metadata": {},
   "source": [
    "<h3> Extract vaccine <h3>"
   ]
  },
  {
   "cell_type": "code",
   "execution_count": 69,
   "id": "38a7e900",
   "metadata": {},
   "outputs": [
    {
     "data": {
      "text/plain": [
       "'No'"
      ]
     },
     "execution_count": 69,
     "metadata": {},
     "output_type": "execute_result"
    }
   ],
   "source": [
    "pattern = 'Have you had the Hepatitis B vaccination\\?(.*?)List'\n",
    "matches = re.findall(pattern, text, flags = re.DOTALL)\n",
    "matches[0].strip()"
   ]
  },
  {
   "cell_type": "markdown",
   "id": "ab07646c",
   "metadata": {},
   "source": [
    "<h3> Extract medical problems <h3>"
   ]
  },
  {
   "cell_type": "code",
   "execution_count": 71,
   "id": "f8741e43",
   "metadata": {},
   "outputs": [
    {
     "data": {
      "text/plain": [
       "'Migraine'"
      ]
     },
     "execution_count": 71,
     "metadata": {},
     "output_type": "execute_result"
    }
   ],
   "source": [
    "pattern = 'List any Medical Problems \\(asthma, seizures, headaches}:(.*)'\n",
    "matches = re.findall(pattern, text, flags = re.DOTALL)\n",
    "matches[0].strip()"
   ]
  }
 ],
 "metadata": {
  "kernelspec": {
   "display_name": "Python 3 (ipykernel)",
   "language": "python",
   "name": "python3"
  },
  "language_info": {
   "codemirror_mode": {
    "name": "ipython",
    "version": 3
   },
   "file_extension": ".py",
   "mimetype": "text/x-python",
   "name": "python",
   "nbconvert_exporter": "python",
   "pygments_lexer": "ipython3",
   "version": "3.8.10"
  },
  "vscode": {
   "interpreter": {
    "hash": "369f2c481f4da34e4445cda3fffd2e751bd1c4d706f27375911949ba6bb62e1c"
   }
  }
 },
 "nbformat": 4,
 "nbformat_minor": 5
}
